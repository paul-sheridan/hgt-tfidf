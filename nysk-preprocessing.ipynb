{
 "cells": [
  {
   "cell_type": "markdown",
   "metadata": {},
   "source": [
    "This Jypyter notebook contains code to reproduce the NYSK dataset preprocessing steps described in \"A hypergeometric test interpretation of a common tf-idf variant\" by Paul Sheridan and Mikael Onsjö. It is assumed that the file \"nysk.xml\" is present in the directory of execution. The file is made available for download by the UCI Machine Learning Repository at https://archive.ics.uci.edu/ml/datasets/NYSK. The code borrows heavily from the \"Text Data Preprocessing: A Walkthrough in Python\" tutorial <https://www.kdnuggets.com/2018/03/text-data-preprocessing-walkthrough-python.html>.\n",
    "\n",
    "Author: Paul Sheridan\n",
    "Email: paul.sheridan.stats@gmail.com"
   ]
  },
  {
   "cell_type": "code",
   "execution_count": null,
   "metadata": {},
   "outputs": [],
   "source": [
    "import os\n",
    "import re, string, unicodedata\n",
    "import nltk\n",
    "import contractions\n",
    "import inflect\n",
    "from bs4 import BeautifulSoup\n",
    "from nltk import word_tokenize, sent_tokenize\n",
    "from nltk.corpus import stopwords\n",
    "from nltk.stem import LancasterStemmer, WordNetLemmatizer"
   ]
  },
  {
   "cell_type": "code",
   "execution_count": null,
   "metadata": {},
   "outputs": [],
   "source": [
    "infile = open(\"nysk.xml\",\"r\")\n",
    "contents = infile.read()\n",
    "soup = BeautifulSoup(contents,'xml')\n",
    "titles = soup.find_all('title')\n",
    "texts = soup.find_all('text')"
   ]
  },
  {
   "cell_type": "code",
   "execution_count": null,
   "metadata": {},
   "outputs": [],
   "source": [
    "title = titles[0]\n",
    "print(title.get_text())"
   ]
  },
  {
   "cell_type": "code",
   "execution_count": 13,
   "metadata": {},
   "outputs": [
    {
     "name": "stdout",
     "output_type": "stream",
     "text": [
      "The New York Post has learned that the woman accusing IMF boss Dominique Strauss-Kahn of sexual assault lived in an apartment exclusively for patients with HIV and AIDS. From the Post: The hotel maid, a West African immigrant, has occupied the fourth-floor High Bridge pad with her 15-year-old daughter since January -- and before that, lived in another Bronx apartment set aside by Harlem Community AIDS United strictly for adults with the virus and their families. The paper was unable to confirm if the accuser has HIV or AIDS because of medical confidentiality laws, but the Post confirmed that the agency rents apartments only for adults with the disease. A Harlem United employee said at least one adult in the apartment must be HIV-positive or have AIDS to qualify to live in one of the residences. Sources told the Post that only the alleged victim and her child lived in the apartment. Strauss-Kahn is accused of forcing the woman to perform oral sex on him. She told police that after the forced act, she spit his semen onto the floor. According to the federal Centers for Disease Control : \"It is possible for either partner to become infected with HIV through performing or receiving oral sex.\" Strauss-Kahn is on suicide watch at Rikers Island jail. Calls intensified for Strauss-Kahn to step down as head of the International Monetary Fund, with U.S. Treasury Secretary Timothy Geithner saying Strauss-Kahn \"is obviously not in a position to run\" the agency. Strauss-Kahn: Lasting Implications For IMF? FOLLOW HUFFPOST NEW YORK ON Facebook: Like 4 Twitter: Enter Email Address GET ALERTS CONTRIBUTE TO THIS STORY - Send Corrections - Send us a Link - Contact us - Send a Tip - Send Photos/Videos - Comment - Dominique Strauss-Kahn - New York Crime - NY News The New York Post has learned that the woman accusing IMF boss Dominique Strauss-Kahn of sexual assault lived in an apartment exclusively for patients with HIV and AIDS. From the Post: The hotel... The New York Post has learned that the woman accusing IMF boss Dominique Strauss-Kahn of sexual assault lived in an apartment exclusively for patients with HIV and AIDS. From the Post: The hotel... \n"
     ]
    }
   ],
   "source": [
    "text = texts[0]\n",
    "print(text.get_text())"
   ]
  },
  {
   "cell_type": "code",
   "execution_count": 28,
   "metadata": {},
   "outputs": [
    {
     "data": {
      "text/plain": [
       "397"
      ]
     },
     "execution_count": 28,
     "metadata": {},
     "output_type": "execute_result"
    }
   ],
   "source": [
    "sample = text.get_text()\n",
    "words = nltk.word_tokenize(sample)\n",
    "len(words)"
   ]
  },
  {
   "cell_type": "code",
   "execution_count": 22,
   "metadata": {},
   "outputs": [],
   "source": [
    "def remove_non_ascii(words):\n",
    "    \"\"\"Remove non-ASCII characters from list of tokenized words\"\"\"\n",
    "    new_words = []\n",
    "    for word in words:\n",
    "        new_word = unicodedata.normalize('NFKD', word).encode('ascii', 'ignore').decode('utf-8', 'ignore')\n",
    "        new_words.append(new_word)\n",
    "    return new_words\n",
    "\n",
    "def to_lowercase(words):\n",
    "    \"\"\"Convert all characters to lowercase from list of tokenized words\"\"\"\n",
    "    new_words = []\n",
    "    for word in words:\n",
    "        new_word = word.lower()\n",
    "        new_words.append(new_word)\n",
    "    return new_words\n",
    "\n",
    "def remove_punctuation(words):\n",
    "    \"\"\"Remove punctuation from list of tokenized words\"\"\"\n",
    "    new_words = []\n",
    "    for word in words:\n",
    "        new_word = re.sub(r'[^\\w\\s]', '', word)\n",
    "        if new_word != '':\n",
    "            new_words.append(new_word)\n",
    "    return new_words\n",
    "\n",
    "def replace_numbers(words):\n",
    "    \"\"\"Replace all interger occurrences in list of tokenized words with textual representation\"\"\"\n",
    "    p = inflect.engine()\n",
    "    new_words = []\n",
    "    for word in words:\n",
    "        if word.isdigit():\n",
    "            new_word = p.number_to_words(word)\n",
    "            new_words.append(new_word)\n",
    "        else:\n",
    "            new_words.append(word)\n",
    "    return new_words\n",
    "\n",
    "def remove_stopwords(words):\n",
    "    \"\"\"Remove stop words from list of tokenized words\"\"\"\n",
    "    new_words = []\n",
    "    for word in words:\n",
    "        if word not in stopwords.words('english'):\n",
    "            new_words.append(word)\n",
    "    return new_words\n",
    "\n",
    "def stem_words(words):\n",
    "    \"\"\"Stem words in list of tokenized words\"\"\"\n",
    "    stemmer = LancasterStemmer()\n",
    "    stems = []\n",
    "    for word in words:\n",
    "        stem = stemmer.stem(word)\n",
    "        stems.append(stem)\n",
    "    return stems\n",
    "\n",
    "def lemmatize_verbs(words):\n",
    "    \"\"\"Lemmatize verbs in list of tokenized words\"\"\"\n",
    "    lemmatizer = WordNetLemmatizer()\n",
    "    lemmas = []\n",
    "    for word in words:\n",
    "        lemma = lemmatizer.lemmatize(word, pos='v')\n",
    "        lemmas.append(lemma)\n",
    "    return lemmas\n",
    "\n",
    "def normalize(words):\n",
    "    words = remove_non_ascii(words)\n",
    "    words = to_lowercase(words)\n",
    "    words = remove_punctuation(words)\n",
    "    words = replace_numbers(words)\n",
    "    words = remove_stopwords(words)\n",
    "    return words"
   ]
  },
  {
   "cell_type": "code",
   "execution_count": 30,
   "metadata": {},
   "outputs": [
    {
     "name": "stdout",
     "output_type": "stream",
     "text": [
      "219\n",
      "['new', 'york', 'post', 'learned', 'woman', 'accusing', 'imf', 'boss', 'dominique', 'strausskahn', 'sexual', 'assault', 'lived', 'apartment', 'exclusively', 'patients', 'hiv', 'aids', 'post', 'hotel', 'maid', 'west', 'african', 'immigrant', 'occupied', 'fourthfloor', 'high', 'bridge', 'pad', '15yearold', 'daughter', 'since', 'january', 'lived', 'another', 'bronx', 'apartment', 'set', 'aside', 'harlem', 'community', 'aids', 'united', 'strictly', 'adults', 'virus', 'families', 'paper', 'unable', 'confirm', 'accuser', 'hiv', 'aids', 'medical', 'confidentiality', 'laws', 'post', 'confirmed', 'agency', 'rents', 'apartments', 'adults', 'disease', 'harlem', 'united', 'employee', 'said', 'least', 'one', 'adult', 'apartment', 'must', 'hivpositive', 'aids', 'qualify', 'live', 'one', 'residences', 'sources', 'told', 'post', 'alleged', 'victim', 'child', 'lived', 'apartment', 'strausskahn', 'accused', 'forcing', 'woman', 'perform', 'oral', 'sex', 'told', 'police', 'forced', 'act', 'spit', 'semen', 'onto', 'floor', 'according', 'federal', 'centers', 'disease', 'control', 'possible', 'either', 'partner', 'become', 'infected', 'hiv', 'performing', 'receiving', 'oral', 'sex', 'strausskahn', 'suicide', 'watch', 'rikers', 'island', 'jail', 'calls', 'intensified', 'strausskahn', 'step', 'head', 'international', 'monetary', 'fund', 'us', 'treasury', 'secretary', 'timothy', 'geithner', 'saying', 'strausskahn', 'obviously', 'position', 'run', 'agency', 'strausskahn', 'lasting', 'implications', 'imf', 'follow', 'huffpost', 'new', 'york', 'facebook', 'like', 'four', 'twitter', 'enter', 'email', 'address', 'get', 'alerts', 'contribute', 'story', 'send', 'corrections', 'send', 'us', 'link', 'contact', 'us', 'send', 'tip', 'send', 'photosvideos', 'comment', 'dominique', 'strausskahn', 'new', 'york', 'crime', 'ny', 'news', 'new', 'york', 'post', 'learned', 'woman', 'accusing', 'imf', 'boss', 'dominique', 'strausskahn', 'sexual', 'assault', 'lived', 'apartment', 'exclusively', 'patients', 'hiv', 'aids', 'post', 'hotel', 'new', 'york', 'post', 'learned', 'woman', 'accusing', 'imf', 'boss', 'dominique', 'strausskahn', 'sexual', 'assault', 'lived', 'apartment', 'exclusively', 'patients', 'hiv', 'aids', 'post', 'hotel']\n"
     ]
    }
   ],
   "source": [
    "words = normalize(words)\n",
    "print(len(words))\n",
    "print(words)"
   ]
  },
  {
   "cell_type": "code",
   "execution_count": 37,
   "metadata": {},
   "outputs": [
    {
     "name": "stdout",
     "output_type": "stream",
     "text": [
      "Stemmed ( 219 ):\n",
      " ['new', 'york', 'post', 'learn', 'wom', 'accus', 'imf', 'boss', 'domin', 'strausskahn', 'sex', 'assault', 'liv', 'apart', 'exclud', 'paty', 'hiv', 'aid', 'post', 'hotel', 'maid', 'west', 'afr', 'immigr', 'occupy', 'fourthflo', 'high', 'bridg', 'pad', '15yearold', 'daught', 'sint', 'janu', 'liv', 'anoth', 'bronx', 'apart', 'set', 'asid', 'harlem', 'commun', 'aid', 'unit', 'strictly', 'adult', 'vir', 'famy', 'pap', 'un', 'confirm', 'accus', 'hiv', 'aid', 'med', 'confid', 'law', 'post', 'confirm', 'ag', 'rent', 'apart', 'adult', 'diseas', 'harlem', 'unit', 'employ', 'said', 'least', 'on', 'adult', 'apart', 'must', 'hivposit', 'aid', 'qual', 'liv', 'on', 'resid', 'sourc', 'told', 'post', 'alleg', 'victim', 'child', 'liv', 'apart', 'strausskahn', 'accus', 'forc', 'wom', 'perform', 'or', 'sex', 'told', 'pol', 'forc', 'act', 'spit', 'sem', 'onto', 'flo', 'accord', 'fed', 'cent', 'diseas', 'control', 'poss', 'eith', 'partn', 'becom', 'infect', 'hiv', 'perform', 'receiv', 'or', 'sex', 'strausskahn', 'suicid', 'watch', 'rik', 'island', 'jail', 'cal', 'intens', 'strausskahn', 'step', 'head', 'intern', 'monet', 'fund', 'us', 'treasury', 'secret', 'timothy', 'geithn', 'say', 'strausskahn', 'obvy', 'posit', 'run', 'ag', 'strausskahn', 'last', 'imply', 'imf', 'follow', 'huffpost', 'new', 'york', 'facebook', 'lik', 'four', 'twit', 'ent', 'email', 'address', 'get', 'alert', 'contribut', 'story', 'send', 'correct', 'send', 'us', 'link', 'contact', 'us', 'send', 'tip', 'send', 'photosvideo', 'com', 'domin', 'strausskahn', 'new', 'york', 'crim', 'ny', 'new', 'new', 'york', 'post', 'learn', 'wom', 'accus', 'imf', 'boss', 'domin', 'strausskahn', 'sex', 'assault', 'liv', 'apart', 'exclud', 'paty', 'hiv', 'aid', 'post', 'hotel', 'new', 'york', 'post', 'learn', 'wom', 'accus', 'imf', 'boss', 'domin', 'strausskahn', 'sex', 'assault', 'liv', 'apart', 'exclud', 'paty', 'hiv', 'aid', 'post', 'hotel']\n",
      "\n",
      "Lemmatized ( 219 ):\n",
      " ['new', 'york', 'post', 'learn', 'woman', 'accuse', 'imf', 'boss', 'dominique', 'strausskahn', 'sexual', 'assault', 'live', 'apartment', 'exclusively', 'patients', 'hiv', 'aid', 'post', 'hotel', 'maid', 'west', 'african', 'immigrant', 'occupy', 'fourthfloor', 'high', 'bridge', 'pad', '15yearold', 'daughter', 'since', 'january', 'live', 'another', 'bronx', 'apartment', 'set', 'aside', 'harlem', 'community', 'aid', 'unite', 'strictly', 'adults', 'virus', 'families', 'paper', 'unable', 'confirm', 'accuser', 'hiv', 'aid', 'medical', 'confidentiality', 'laws', 'post', 'confirm', 'agency', 'rent', 'apartments', 'adults', 'disease', 'harlem', 'unite', 'employee', 'say', 'least', 'one', 'adult', 'apartment', 'must', 'hivpositive', 'aid', 'qualify', 'live', 'one', 'residences', 'source', 'tell', 'post', 'allege', 'victim', 'child', 'live', 'apartment', 'strausskahn', 'accuse', 'force', 'woman', 'perform', 'oral', 'sex', 'tell', 'police', 'force', 'act', 'spit', 'semen', 'onto', 'floor', 'accord', 'federal', 'center', 'disease', 'control', 'possible', 'either', 'partner', 'become', 'infect', 'hiv', 'perform', 'receive', 'oral', 'sex', 'strausskahn', 'suicide', 'watch', 'rikers', 'island', 'jail', 'call', 'intensify', 'strausskahn', 'step', 'head', 'international', 'monetary', 'fund', 'us', 'treasury', 'secretary', 'timothy', 'geithner', 'say', 'strausskahn', 'obviously', 'position', 'run', 'agency', 'strausskahn', 'last', 'implications', 'imf', 'follow', 'huffpost', 'new', 'york', 'facebook', 'like', 'four', 'twitter', 'enter', 'email', 'address', 'get', 'alert', 'contribute', 'story', 'send', 'corrections', 'send', 'us', 'link', 'contact', 'us', 'send', 'tip', 'send', 'photosvideos', 'comment', 'dominique', 'strausskahn', 'new', 'york', 'crime', 'ny', 'news', 'new', 'york', 'post', 'learn', 'woman', 'accuse', 'imf', 'boss', 'dominique', 'strausskahn', 'sexual', 'assault', 'live', 'apartment', 'exclusively', 'patients', 'hiv', 'aid', 'post', 'hotel', 'new', 'york', 'post', 'learn', 'woman', 'accuse', 'imf', 'boss', 'dominique', 'strausskahn', 'sexual', 'assault', 'live', 'apartment', 'exclusively', 'patients', 'hiv', 'aid', 'post', 'hotel']\n"
     ]
    }
   ],
   "source": [
    "def stem_and_lemmatize(words):\n",
    "    stems = stem_words(words)\n",
    "    lemmas = lemmatize_verbs(words)\n",
    "    return stems, lemmas\n",
    "\n",
    "stems, lemmas = stem_and_lemmatize(words)\n",
    "print('Stemmed (', len(stems), '):\\n', stems)\n",
    "print('\\nLemmatized (', len(lemmas), '):\\n', lemmas)"
   ]
  },
  {
   "cell_type": "code",
   "execution_count": 38,
   "metadata": {},
   "outputs": [
    {
     "data": {
      "text/plain": [
       "list"
      ]
     },
     "execution_count": 38,
     "metadata": {},
     "output_type": "execute_result"
    }
   ],
   "source": [
    "type(lemmas)"
   ]
  },
  {
   "cell_type": "code",
   "execution_count": 43,
   "metadata": {},
   "outputs": [
    {
     "name": "stdout",
     "output_type": "stream",
     "text": [
      "[\"new\", \"york\", \"post\", \"learn\", \"woman\", \"accuse\", \"imf\", \"boss\", \"dominique\", \"strausskahn\", \"sexual\", \"assault\", \"live\", \"apartment\", \"exclusively\", \"patients\", \"hiv\", \"aid\", \"post\", \"hotel\", \"maid\", \"west\", \"african\", \"immigrant\", \"occupy\", \"fourthfloor\", \"high\", \"bridge\", \"pad\", \"15yearold\", \"daughter\", \"since\", \"january\", \"live\", \"another\", \"bronx\", \"apartment\", \"set\", \"aside\", \"harlem\", \"community\", \"aid\", \"unite\", \"strictly\", \"adults\", \"virus\", \"families\", \"paper\", \"unable\", \"confirm\", \"accuser\", \"hiv\", \"aid\", \"medical\", \"confidentiality\", \"laws\", \"post\", \"confirm\", \"agency\", \"rent\", \"apartments\", \"adults\", \"disease\", \"harlem\", \"unite\", \"employee\", \"say\", \"least\", \"one\", \"adult\", \"apartment\", \"must\", \"hivpositive\", \"aid\", \"qualify\", \"live\", \"one\", \"residences\", \"source\", \"tell\", \"post\", \"allege\", \"victim\", \"child\", \"live\", \"apartment\", \"strausskahn\", \"accuse\", \"force\", \"woman\", \"perform\", \"oral\", \"sex\", \"tell\", \"police\", \"force\", \"act\", \"spit\", \"semen\", \"onto\", \"floor\", \"accord\", \"federal\", \"center\", \"disease\", \"control\", \"possible\", \"either\", \"partner\", \"become\", \"infect\", \"hiv\", \"perform\", \"receive\", \"oral\", \"sex\", \"strausskahn\", \"suicide\", \"watch\", \"rikers\", \"island\", \"jail\", \"call\", \"intensify\", \"strausskahn\", \"step\", \"head\", \"international\", \"monetary\", \"fund\", \"us\", \"treasury\", \"secretary\", \"timothy\", \"geithner\", \"say\", \"strausskahn\", \"obviously\", \"position\", \"run\", \"agency\", \"strausskahn\", \"last\", \"implications\", \"imf\", \"follow\", \"huffpost\", \"new\", \"york\", \"facebook\", \"like\", \"four\", \"twitter\", \"enter\", \"email\", \"address\", \"get\", \"alert\", \"contribute\", \"story\", \"send\", \"corrections\", \"send\", \"us\", \"link\", \"contact\", \"us\", \"send\", \"tip\", \"send\", \"photosvideos\", \"comment\", \"dominique\", \"strausskahn\", \"new\", \"york\", \"crime\", \"ny\", \"news\", \"new\", \"york\", \"post\", \"learn\", \"woman\", \"accuse\", \"imf\", \"boss\", \"dominique\", \"strausskahn\", \"sexual\", \"assault\", \"live\", \"apartment\", \"exclusively\", \"patients\", \"hiv\", \"aid\", \"post\", \"hotel\", \"new\", \"york\", \"post\", \"learn\", \"woman\", \"accuse\", \"imf\", \"boss\", \"dominique\", \"strausskahn\", \"sexual\", \"assault\", \"live\", \"apartment\", \"exclusively\", \"patients\", \"hiv\", \"aid\", \"post\", \"hotel\"]\n"
     ]
    }
   ],
   "source": [
    "import json\n",
    "A = json.dumps(lemmas)\n",
    "print(A)\n",
    "with open('list.json', 'w') as file:\n",
    "    file.write(json.dumps(A))"
   ]
  },
  {
   "cell_type": "code",
   "execution_count": 51,
   "metadata": {},
   "outputs": [],
   "source": [
    "mylist = []\n",
    "for text in texts:\n",
    "    sample = text.get_text()\n",
    "    words = nltk.word_tokenize(sample)\n",
    "    words = normalize(words)\n",
    "    stems, lemmas = stem_and_lemmatize(words)\n",
    "    mylist.append(lemmas)\n",
    "    \n",
    "with open('nysk-processed.json', 'w') as outfile:\n",
    "    json.dump(mylist, outfile)"
   ]
  },
  {
   "cell_type": "code",
   "execution_count": 52,
   "metadata": {},
   "outputs": [
    {
     "name": "stdout",
     "output_type": "stream",
     "text": [
      "10421\n"
     ]
    }
   ],
   "source": [
    "print(len(mylist))"
   ]
  }
 ],
 "metadata": {
  "kernelspec": {
   "display_name": "Python 3",
   "language": "python",
   "name": "python3"
  },
  "language_info": {
   "codemirror_mode": {
    "name": "ipython",
    "version": 3
   },
   "file_extension": ".py",
   "mimetype": "text/x-python",
   "name": "python",
   "nbconvert_exporter": "python",
   "pygments_lexer": "ipython3",
   "version": "3.7.4"
  }
 },
 "nbformat": 4,
 "nbformat_minor": 4
}
